{
 "cells": [
  {
   "cell_type": "markdown",
   "id": "colonial-capacity",
   "metadata": {},
   "source": [
    "Name: Osama Sidahmed\n",
    "\n",
    "Date: 07 Nov 2021"
   ]
  },
  {
   "cell_type": "code",
   "execution_count": null,
   "id": "accessory-management",
   "metadata": {},
   "outputs": [],
   "source": []
  },
  {
   "cell_type": "code",
   "execution_count": null,
   "id": "psychological-upgrade",
   "metadata": {},
   "outputs": [],
   "source": []
  },
  {
   "cell_type": "markdown",
   "id": "printable-uruguay",
   "metadata": {},
   "source": [
    "### Discription (From the dataset author)"
   ]
  },
  {
   "cell_type": "markdown",
   "id": "compressed-radical",
   "metadata": {
    "ExecuteTime": {
     "end_time": "2021-11-07T17:12:03.648435Z",
     "start_time": "2021-11-07T17:12:03.595292Z"
    }
   },
   "source": [
    "**Context**\n",
    "\n",
    "3D object representations are valuable resources for multi-view object class detection and scene understanding. Fine-grained recognition is a growing subfield of computer vision that has many real-world applications on distinguishing subtle appearances differences. This cars dataset contains great training and testing sets for forming models that can tell cars from one another. Data originated from Stanford University AI Lab (specific reference below in Acknowledgment section).\n",
    "\n",
    "**Content**\n",
    "\n",
    "The Cars dataset contains 16,185 images of 196 classes of cars. The data is split into 8,144 training images and 8,041 testing images, where each class has been split roughly in a 50-50 split. Classes are typically at the level of Make, Model, Year, ex. 2012 Tesla Model S or 2012 BMW M3 coupe.\n",
    "\n",
    "**Acknowledgements**\n",
    "\n",
    "Data source and banner image: http://ai.stanford.edu/~jkrause/cars/car_dataset.html contains all bounding boxes and labels for both training and tests.\n",
    "\n",
    "If you use this dataset, please cite the following paper:\n",
    "\n",
    "3D Object Representations for Fine-Grained Categorization\n",
    "\n",
    "Jonathan Krause, Michael Stark, Jia Deng, Li Fei-Fei\n",
    "\n",
    "4th IEEE Workshop on 3D Representation and Recognition, at ICCV 2013 (3dRR-13). Sydney, Australia. Dec. 8, 2013."
   ]
  },
  {
   "cell_type": "markdown",
   "id": "provincial-mississippi",
   "metadata": {
    "ExecuteTime": {
     "end_time": "2021-11-07T19:43:36.772489Z",
     "start_time": "2021-11-07T19:43:36.747738Z"
    }
   },
   "source": [
    "An overview of the dataset is available [here](https://ai.stanford.edu/~jkrause/cars/car_dataset.html)."
   ]
  },
  {
   "cell_type": "markdown",
   "id": "approximate-terry",
   "metadata": {},
   "source": [
    "### Objective"
   ]
  },
  {
   "cell_type": "markdown",
   "id": "handed-reporter",
   "metadata": {},
   "source": [
    "The main objective of this project is develop a CNN algorithm that differentiates between the different 196 classes using Tensorflow. Some examples of the classes are:\n",
    "\n",
    "        'Audi TT Hatchback 2011', \n",
    "        'Audi S6 Sedan 2011'\n",
    "        'Audi S5 Convertible 2012', \n",
    "        'Audi S5 Coupe 2012'\n",
    "        'Audi TT RS Coupe 2012', \n",
    "        'BMW ActiveHybrid 5 Sedan 2012'\n",
    "        'BMW 6 Series Convertible 2007', \n",
    "        'BMW X5 SUV 2007'\n",
    "        \n",
    "The class description is a combination of the make, model and the year."
   ]
  },
  {
   "cell_type": "markdown",
   "id": "judicial-tender",
   "metadata": {
    "ExecuteTime": {
     "end_time": "2021-11-07T17:21:45.557276Z",
     "start_time": "2021-11-07T17:21:45.540187Z"
    }
   },
   "source": [
    "### Exploratory Data Analysis"
   ]
  },
  {
   "cell_type": "markdown",
   "id": "further-affair",
   "metadata": {},
   "source": [
    "On this section we will try to better understand the data and spot some clear patterns."
   ]
  },
  {
   "cell_type": "code",
   "execution_count": 1,
   "id": "compatible-electric",
   "metadata": {
    "ExecuteTime": {
     "end_time": "2021-11-07T16:08:56.652311Z",
     "start_time": "2021-11-07T16:08:54.740081Z"
    }
   },
   "outputs": [],
   "source": [
    "# Load libraries\n",
    "import pandas as pd\n",
    "import numpy as np\n",
    "import matplotlib.pyplot as plt"
   ]
  },
  {
   "cell_type": "markdown",
   "id": "according-landscape",
   "metadata": {},
   "source": [
    "It has been noticed that the file containing the data classification is provided in a .mat file that we need to process to be able to read the data stored in it. "
   ]
  },
  {
   "cell_type": "code",
   "execution_count": 2,
   "id": "synthetic-mumbai",
   "metadata": {
    "ExecuteTime": {
     "end_time": "2021-11-07T16:09:34.518654Z",
     "start_time": "2021-11-07T16:09:33.354888Z"
    }
   },
   "outputs": [],
   "source": [
    "# import loadmat from scipy to read the .mat file\n",
    "from scipy.io import loadmat"
   ]
  },
  {
   "cell_type": "code",
   "execution_count": 3,
   "id": "hidden-magic",
   "metadata": {
    "ExecuteTime": {
     "end_time": "2021-11-07T16:10:14.966895Z",
     "start_time": "2021-11-07T16:10:14.414850Z"
    }
   },
   "outputs": [],
   "source": [
    "# load the .mat file\n",
    "mat = loadmat('data/cars_annos.mat', squeeze_me=True)"
   ]
  },
  {
   "cell_type": "code",
   "execution_count": 5,
   "id": "contrary-product",
   "metadata": {
    "ExecuteTime": {
     "end_time": "2021-11-07T16:10:33.428252Z",
     "start_time": "2021-11-07T16:10:33.418158Z"
    }
   },
   "outputs": [
    {
     "data": {
      "text/plain": [
       "dict"
      ]
     },
     "execution_count": 5,
     "metadata": {},
     "output_type": "execute_result"
    }
   ],
   "source": [
    "type(mat)"
   ]
  },
  {
   "cell_type": "markdown",
   "id": "higher-laser",
   "metadata": {},
   "source": [
    "The outcome is a dictionary, we can extract the data from the dictionary."
   ]
  },
  {
   "cell_type": "code",
   "execution_count": 6,
   "id": "historic-richardson",
   "metadata": {
    "ExecuteTime": {
     "end_time": "2021-11-07T16:10:47.733582Z",
     "start_time": "2021-11-07T16:10:47.722290Z"
    }
   },
   "outputs": [
    {
     "data": {
      "text/plain": [
       "{'__header__': b'MATLAB 5.0 MAT-file, Platform: GLNXA64, Created on: Sat Feb 28 19:34:55 2015',\n",
       " '__version__': '1.0',\n",
       " '__globals__': [],\n",
       " 'annotations': array([('car_ims/000001.jpg', 112, 7, 853, 717, 1, 0),\n",
       "        ('car_ims/000002.jpg', 48, 24, 441, 202, 1, 0),\n",
       "        ('car_ims/000003.jpg', 7, 4, 277, 180, 1, 0), ...,\n",
       "        ('car_ims/016183.jpg', 25, 32, 587, 359, 196, 1),\n",
       "        ('car_ims/016184.jpg', 56, 60, 208, 186, 196, 1),\n",
       "        ('car_ims/016185.jpg', 1, 1, 200, 131, 196, 1)],\n",
       "       dtype=[('relative_im_path', 'O'), ('bbox_x1', 'O'), ('bbox_y1', 'O'), ('bbox_x2', 'O'), ('bbox_y2', 'O'), ('class', 'O'), ('test', 'O')]),\n",
       " 'class_names': array(['AM General Hummer SUV 2000', 'Acura RL Sedan 2012',\n",
       "        'Acura TL Sedan 2012', 'Acura TL Type-S 2008',\n",
       "        'Acura TSX Sedan 2012', 'Acura Integra Type R 2001',\n",
       "        'Acura ZDX Hatchback 2012',\n",
       "        'Aston Martin V8 Vantage Convertible 2012',\n",
       "        'Aston Martin V8 Vantage Coupe 2012',\n",
       "        'Aston Martin Virage Convertible 2012',\n",
       "        'Aston Martin Virage Coupe 2012', 'Audi RS 4 Convertible 2008',\n",
       "        'Audi A5 Coupe 2012', 'Audi TTS Coupe 2012', 'Audi R8 Coupe 2012',\n",
       "        'Audi V8 Sedan 1994', 'Audi 100 Sedan 1994', 'Audi 100 Wagon 1994',\n",
       "        'Audi TT Hatchback 2011', 'Audi S6 Sedan 2011',\n",
       "        'Audi S5 Convertible 2012', 'Audi S5 Coupe 2012',\n",
       "        'Audi S4 Sedan 2012', 'Audi S4 Sedan 2007',\n",
       "        'Audi TT RS Coupe 2012', 'BMW ActiveHybrid 5 Sedan 2012',\n",
       "        'BMW 1 Series Convertible 2012', 'BMW 1 Series Coupe 2012',\n",
       "        'BMW 3 Series Sedan 2012', 'BMW 3 Series Wagon 2012',\n",
       "        'BMW 6 Series Convertible 2007', 'BMW X5 SUV 2007',\n",
       "        'BMW X6 SUV 2012', 'BMW M3 Coupe 2012', 'BMW M5 Sedan 2010',\n",
       "        'BMW M6 Convertible 2010', 'BMW X3 SUV 2012',\n",
       "        'BMW Z4 Convertible 2012',\n",
       "        'Bentley Continental Supersports Conv. Convertible 2012',\n",
       "        'Bentley Arnage Sedan 2009', 'Bentley Mulsanne Sedan 2011',\n",
       "        'Bentley Continental GT Coupe 2012',\n",
       "        'Bentley Continental GT Coupe 2007',\n",
       "        'Bentley Continental Flying Spur Sedan 2007',\n",
       "        'Bugatti Veyron 16.4 Convertible 2009',\n",
       "        'Bugatti Veyron 16.4 Coupe 2009', 'Buick Regal GS 2012',\n",
       "        'Buick Rainier SUV 2007', 'Buick Verano Sedan 2012',\n",
       "        'Buick Enclave SUV 2012', 'Cadillac CTS-V Sedan 2012',\n",
       "        'Cadillac SRX SUV 2012', 'Cadillac Escalade EXT Crew Cab 2007',\n",
       "        'Chevrolet Silverado 1500 Hybrid Crew Cab 2012',\n",
       "        'Chevrolet Corvette Convertible 2012',\n",
       "        'Chevrolet Corvette ZR1 2012',\n",
       "        'Chevrolet Corvette Ron Fellows Edition Z06 2007',\n",
       "        'Chevrolet Traverse SUV 2012', 'Chevrolet Camaro Convertible 2012',\n",
       "        'Chevrolet HHR SS 2010', 'Chevrolet Impala Sedan 2007',\n",
       "        'Chevrolet Tahoe Hybrid SUV 2012', 'Chevrolet Sonic Sedan 2012',\n",
       "        'Chevrolet Express Cargo Van 2007',\n",
       "        'Chevrolet Avalanche Crew Cab 2012', 'Chevrolet Cobalt SS 2010',\n",
       "        'Chevrolet Malibu Hybrid Sedan 2010',\n",
       "        'Chevrolet TrailBlazer SS 2009',\n",
       "        'Chevrolet Silverado 2500HD Regular Cab 2012',\n",
       "        'Chevrolet Silverado 1500 Classic Extended Cab 2007',\n",
       "        'Chevrolet Express Van 2007', 'Chevrolet Monte Carlo Coupe 2007',\n",
       "        'Chevrolet Malibu Sedan 2007',\n",
       "        'Chevrolet Silverado 1500 Extended Cab 2012',\n",
       "        'Chevrolet Silverado 1500 Regular Cab 2012',\n",
       "        'Chrysler Aspen SUV 2009', 'Chrysler Sebring Convertible 2010',\n",
       "        'Chrysler Town and Country Minivan 2012',\n",
       "        'Chrysler 300 SRT-8 2010', 'Chrysler Crossfire Convertible 2008',\n",
       "        'Chrysler PT Cruiser Convertible 2008', 'Daewoo Nubira Wagon 2002',\n",
       "        'Dodge Caliber Wagon 2012', 'Dodge Caliber Wagon 2007',\n",
       "        'Dodge Caravan Minivan 1997',\n",
       "        'Dodge Ram Pickup 3500 Crew Cab 2010',\n",
       "        'Dodge Ram Pickup 3500 Quad Cab 2009',\n",
       "        'Dodge Sprinter Cargo Van 2009', 'Dodge Journey SUV 2012',\n",
       "        'Dodge Dakota Crew Cab 2010', 'Dodge Dakota Club Cab 2007',\n",
       "        'Dodge Magnum Wagon 2008', 'Dodge Challenger SRT8 2011',\n",
       "        'Dodge Durango SUV 2012', 'Dodge Durango SUV 2007',\n",
       "        'Dodge Charger Sedan 2012', 'Dodge Charger SRT-8 2009',\n",
       "        'Eagle Talon Hatchback 1998', 'FIAT 500 Abarth 2012',\n",
       "        'FIAT 500 Convertible 2012', 'Ferrari FF Coupe 2012',\n",
       "        'Ferrari California Convertible 2012',\n",
       "        'Ferrari 458 Italia Convertible 2012',\n",
       "        'Ferrari 458 Italia Coupe 2012', 'Fisker Karma Sedan 2012',\n",
       "        'Ford F-450 Super Duty Crew Cab 2012',\n",
       "        'Ford Mustang Convertible 2007', 'Ford Freestar Minivan 2007',\n",
       "        'Ford Expedition EL SUV 2009', 'Ford Edge SUV 2012',\n",
       "        'Ford Ranger SuperCab 2011', 'Ford GT Coupe 2006',\n",
       "        'Ford F-150 Regular Cab 2012', 'Ford F-150 Regular Cab 2007',\n",
       "        'Ford Focus Sedan 2007', 'Ford E-Series Wagon Van 2012',\n",
       "        'Ford Fiesta Sedan 2012', 'GMC Terrain SUV 2012',\n",
       "        'GMC Savana Van 2012', 'GMC Yukon Hybrid SUV 2012',\n",
       "        'GMC Acadia SUV 2012', 'GMC Canyon Extended Cab 2012',\n",
       "        'Geo Metro Convertible 1993', 'HUMMER H3T Crew Cab 2010',\n",
       "        'HUMMER H2 SUT Crew Cab 2009', 'Honda Odyssey Minivan 2012',\n",
       "        'Honda Odyssey Minivan 2007', 'Honda Accord Coupe 2012',\n",
       "        'Honda Accord Sedan 2012', 'Hyundai Veloster Hatchback 2012',\n",
       "        'Hyundai Santa Fe SUV 2012', 'Hyundai Tucson SUV 2012',\n",
       "        'Hyundai Veracruz SUV 2012', 'Hyundai Sonata Hybrid Sedan 2012',\n",
       "        'Hyundai Elantra Sedan 2007', 'Hyundai Accent Sedan 2012',\n",
       "        'Hyundai Genesis Sedan 2012', 'Hyundai Sonata Sedan 2012',\n",
       "        'Hyundai Elantra Touring Hatchback 2012',\n",
       "        'Hyundai Azera Sedan 2012', 'Infiniti G Coupe IPL 2012',\n",
       "        'Infiniti QX56 SUV 2011', 'Isuzu Ascender SUV 2008',\n",
       "        'Jaguar XK XKR 2012', 'Jeep Patriot SUV 2012',\n",
       "        'Jeep Wrangler SUV 2012', 'Jeep Liberty SUV 2012',\n",
       "        'Jeep Grand Cherokee SUV 2012', 'Jeep Compass SUV 2012',\n",
       "        'Lamborghini Reventon Coupe 2008',\n",
       "        'Lamborghini Aventador Coupe 2012',\n",
       "        'Lamborghini Gallardo LP 570-4 Superleggera 2012',\n",
       "        'Lamborghini Diablo Coupe 2001', 'Land Rover Range Rover SUV 2012',\n",
       "        'Land Rover LR2 SUV 2012', 'Lincoln Town Car Sedan 2011',\n",
       "        'MINI Cooper Roadster Convertible 2012',\n",
       "        'Maybach Landaulet Convertible 2012', 'Mazda Tribute SUV 2011',\n",
       "        'McLaren MP4-12C Coupe 2012',\n",
       "        'Mercedes-Benz 300-Class Convertible 1993',\n",
       "        'Mercedes-Benz C-Class Sedan 2012',\n",
       "        'Mercedes-Benz SL-Class Coupe 2009',\n",
       "        'Mercedes-Benz E-Class Sedan 2012',\n",
       "        'Mercedes-Benz S-Class Sedan 2012',\n",
       "        'Mercedes-Benz Sprinter Van 2012', 'Mitsubishi Lancer Sedan 2012',\n",
       "        'Nissan Leaf Hatchback 2012', 'Nissan NV Passenger Van 2012',\n",
       "        'Nissan Juke Hatchback 2012', 'Nissan 240SX Coupe 1998',\n",
       "        'Plymouth Neon Coupe 1999', 'Porsche Panamera Sedan 2012',\n",
       "        'Ram C/V Cargo Van Minivan 2012',\n",
       "        'Rolls-Royce Phantom Drophead Coupe Convertible 2012',\n",
       "        'Rolls-Royce Ghost Sedan 2012', 'Rolls-Royce Phantom Sedan 2012',\n",
       "        'Scion xD Hatchback 2012', 'Spyker C8 Convertible 2009',\n",
       "        'Spyker C8 Coupe 2009', 'Suzuki Aerio Sedan 2007',\n",
       "        'Suzuki Kizashi Sedan 2012', 'Suzuki SX4 Hatchback 2012',\n",
       "        'Suzuki SX4 Sedan 2012', 'Tesla Model S Sedan 2012',\n",
       "        'Toyota Sequoia SUV 2012', 'Toyota Camry Sedan 2012',\n",
       "        'Toyota Corolla Sedan 2012', 'Toyota 4Runner SUV 2012',\n",
       "        'Volkswagen Golf Hatchback 2012', 'Volkswagen Golf Hatchback 1991',\n",
       "        'Volkswagen Beetle Hatchback 2012', 'Volvo C30 Hatchback 2012',\n",
       "        'Volvo 240 Sedan 1993', 'Volvo XC90 SUV 2007',\n",
       "        'smart fortwo Convertible 2012'], dtype=object)}"
      ]
     },
     "execution_count": 6,
     "metadata": {},
     "output_type": "execute_result"
    }
   ],
   "source": [
    "mat"
   ]
  },
  {
   "cell_type": "markdown",
   "id": "experimental-candy",
   "metadata": {},
   "source": [
    "We are only interested in the 'annotations' and the 'class_names' values."
   ]
  },
  {
   "cell_type": "code",
   "execution_count": 10,
   "id": "indirect-malawi",
   "metadata": {
    "ExecuteTime": {
     "end_time": "2021-11-07T16:13:22.127873Z",
     "start_time": "2021-11-07T16:13:22.108799Z"
    }
   },
   "outputs": [
    {
     "data": {
      "text/plain": [
       "array([('car_ims/000001.jpg', 112, 7, 853, 717, 1, 0),\n",
       "       ('car_ims/000002.jpg', 48, 24, 441, 202, 1, 0),\n",
       "       ('car_ims/000003.jpg', 7, 4, 277, 180, 1, 0), ...,\n",
       "       ('car_ims/016183.jpg', 25, 32, 587, 359, 196, 1),\n",
       "       ('car_ims/016184.jpg', 56, 60, 208, 186, 196, 1),\n",
       "       ('car_ims/016185.jpg', 1, 1, 200, 131, 196, 1)],\n",
       "      dtype=[('relative_im_path', 'O'), ('bbox_x1', 'O'), ('bbox_y1', 'O'), ('bbox_x2', 'O'), ('bbox_y2', 'O'), ('class', 'O'), ('test', 'O')])"
      ]
     },
     "execution_count": 10,
     "metadata": {},
     "output_type": "execute_result"
    }
   ],
   "source": [
    "mat['annotations']"
   ]
  },
  {
   "cell_type": "code",
   "execution_count": 47,
   "id": "christian-projection",
   "metadata": {
    "ExecuteTime": {
     "end_time": "2021-11-07T16:25:39.576856Z",
     "start_time": "2021-11-07T16:25:39.563257Z"
    }
   },
   "outputs": [
    {
     "data": {
      "text/plain": [
       "array(['AM General Hummer SUV 2000', 'Acura RL Sedan 2012',\n",
       "       'Acura TL Sedan 2012', 'Acura TL Type-S 2008',\n",
       "       'Acura TSX Sedan 2012', 'Acura Integra Type R 2001',\n",
       "       'Acura ZDX Hatchback 2012',\n",
       "       'Aston Martin V8 Vantage Convertible 2012',\n",
       "       'Aston Martin V8 Vantage Coupe 2012',\n",
       "       'Aston Martin Virage Convertible 2012',\n",
       "       'Aston Martin Virage Coupe 2012', 'Audi RS 4 Convertible 2008',\n",
       "       'Audi A5 Coupe 2012', 'Audi TTS Coupe 2012', 'Audi R8 Coupe 2012',\n",
       "       'Audi V8 Sedan 1994', 'Audi 100 Sedan 1994', 'Audi 100 Wagon 1994',\n",
       "       'Audi TT Hatchback 2011', 'Audi S6 Sedan 2011',\n",
       "       'Audi S5 Convertible 2012', 'Audi S5 Coupe 2012',\n",
       "       'Audi S4 Sedan 2012', 'Audi S4 Sedan 2007',\n",
       "       'Audi TT RS Coupe 2012', 'BMW ActiveHybrid 5 Sedan 2012',\n",
       "       'BMW 1 Series Convertible 2012', 'BMW 1 Series Coupe 2012',\n",
       "       'BMW 3 Series Sedan 2012', 'BMW 3 Series Wagon 2012',\n",
       "       'BMW 6 Series Convertible 2007', 'BMW X5 SUV 2007',\n",
       "       'BMW X6 SUV 2012', 'BMW M3 Coupe 2012', 'BMW M5 Sedan 2010',\n",
       "       'BMW M6 Convertible 2010', 'BMW X3 SUV 2012',\n",
       "       'BMW Z4 Convertible 2012',\n",
       "       'Bentley Continental Supersports Conv. Convertible 2012',\n",
       "       'Bentley Arnage Sedan 2009', 'Bentley Mulsanne Sedan 2011',\n",
       "       'Bentley Continental GT Coupe 2012',\n",
       "       'Bentley Continental GT Coupe 2007',\n",
       "       'Bentley Continental Flying Spur Sedan 2007',\n",
       "       'Bugatti Veyron 16.4 Convertible 2009',\n",
       "       'Bugatti Veyron 16.4 Coupe 2009', 'Buick Regal GS 2012',\n",
       "       'Buick Rainier SUV 2007', 'Buick Verano Sedan 2012',\n",
       "       'Buick Enclave SUV 2012', 'Cadillac CTS-V Sedan 2012',\n",
       "       'Cadillac SRX SUV 2012', 'Cadillac Escalade EXT Crew Cab 2007',\n",
       "       'Chevrolet Silverado 1500 Hybrid Crew Cab 2012',\n",
       "       'Chevrolet Corvette Convertible 2012',\n",
       "       'Chevrolet Corvette ZR1 2012',\n",
       "       'Chevrolet Corvette Ron Fellows Edition Z06 2007',\n",
       "       'Chevrolet Traverse SUV 2012', 'Chevrolet Camaro Convertible 2012',\n",
       "       'Chevrolet HHR SS 2010', 'Chevrolet Impala Sedan 2007',\n",
       "       'Chevrolet Tahoe Hybrid SUV 2012', 'Chevrolet Sonic Sedan 2012',\n",
       "       'Chevrolet Express Cargo Van 2007',\n",
       "       'Chevrolet Avalanche Crew Cab 2012', 'Chevrolet Cobalt SS 2010',\n",
       "       'Chevrolet Malibu Hybrid Sedan 2010',\n",
       "       'Chevrolet TrailBlazer SS 2009',\n",
       "       'Chevrolet Silverado 2500HD Regular Cab 2012',\n",
       "       'Chevrolet Silverado 1500 Classic Extended Cab 2007',\n",
       "       'Chevrolet Express Van 2007', 'Chevrolet Monte Carlo Coupe 2007',\n",
       "       'Chevrolet Malibu Sedan 2007',\n",
       "       'Chevrolet Silverado 1500 Extended Cab 2012',\n",
       "       'Chevrolet Silverado 1500 Regular Cab 2012',\n",
       "       'Chrysler Aspen SUV 2009', 'Chrysler Sebring Convertible 2010',\n",
       "       'Chrysler Town and Country Minivan 2012',\n",
       "       'Chrysler 300 SRT-8 2010', 'Chrysler Crossfire Convertible 2008',\n",
       "       'Chrysler PT Cruiser Convertible 2008', 'Daewoo Nubira Wagon 2002',\n",
       "       'Dodge Caliber Wagon 2012', 'Dodge Caliber Wagon 2007',\n",
       "       'Dodge Caravan Minivan 1997',\n",
       "       'Dodge Ram Pickup 3500 Crew Cab 2010',\n",
       "       'Dodge Ram Pickup 3500 Quad Cab 2009',\n",
       "       'Dodge Sprinter Cargo Van 2009', 'Dodge Journey SUV 2012',\n",
       "       'Dodge Dakota Crew Cab 2010', 'Dodge Dakota Club Cab 2007',\n",
       "       'Dodge Magnum Wagon 2008', 'Dodge Challenger SRT8 2011',\n",
       "       'Dodge Durango SUV 2012', 'Dodge Durango SUV 2007',\n",
       "       'Dodge Charger Sedan 2012', 'Dodge Charger SRT-8 2009',\n",
       "       'Eagle Talon Hatchback 1998', 'FIAT 500 Abarth 2012',\n",
       "       'FIAT 500 Convertible 2012', 'Ferrari FF Coupe 2012',\n",
       "       'Ferrari California Convertible 2012',\n",
       "       'Ferrari 458 Italia Convertible 2012',\n",
       "       'Ferrari 458 Italia Coupe 2012', 'Fisker Karma Sedan 2012',\n",
       "       'Ford F-450 Super Duty Crew Cab 2012',\n",
       "       'Ford Mustang Convertible 2007', 'Ford Freestar Minivan 2007',\n",
       "       'Ford Expedition EL SUV 2009', 'Ford Edge SUV 2012',\n",
       "       'Ford Ranger SuperCab 2011', 'Ford GT Coupe 2006',\n",
       "       'Ford F-150 Regular Cab 2012', 'Ford F-150 Regular Cab 2007',\n",
       "       'Ford Focus Sedan 2007', 'Ford E-Series Wagon Van 2012',\n",
       "       'Ford Fiesta Sedan 2012', 'GMC Terrain SUV 2012',\n",
       "       'GMC Savana Van 2012', 'GMC Yukon Hybrid SUV 2012',\n",
       "       'GMC Acadia SUV 2012', 'GMC Canyon Extended Cab 2012',\n",
       "       'Geo Metro Convertible 1993', 'HUMMER H3T Crew Cab 2010',\n",
       "       'HUMMER H2 SUT Crew Cab 2009', 'Honda Odyssey Minivan 2012',\n",
       "       'Honda Odyssey Minivan 2007', 'Honda Accord Coupe 2012',\n",
       "       'Honda Accord Sedan 2012', 'Hyundai Veloster Hatchback 2012',\n",
       "       'Hyundai Santa Fe SUV 2012', 'Hyundai Tucson SUV 2012',\n",
       "       'Hyundai Veracruz SUV 2012', 'Hyundai Sonata Hybrid Sedan 2012',\n",
       "       'Hyundai Elantra Sedan 2007', 'Hyundai Accent Sedan 2012',\n",
       "       'Hyundai Genesis Sedan 2012', 'Hyundai Sonata Sedan 2012',\n",
       "       'Hyundai Elantra Touring Hatchback 2012',\n",
       "       'Hyundai Azera Sedan 2012', 'Infiniti G Coupe IPL 2012',\n",
       "       'Infiniti QX56 SUV 2011', 'Isuzu Ascender SUV 2008',\n",
       "       'Jaguar XK XKR 2012', 'Jeep Patriot SUV 2012',\n",
       "       'Jeep Wrangler SUV 2012', 'Jeep Liberty SUV 2012',\n",
       "       'Jeep Grand Cherokee SUV 2012', 'Jeep Compass SUV 2012',\n",
       "       'Lamborghini Reventon Coupe 2008',\n",
       "       'Lamborghini Aventador Coupe 2012',\n",
       "       'Lamborghini Gallardo LP 570-4 Superleggera 2012',\n",
       "       'Lamborghini Diablo Coupe 2001', 'Land Rover Range Rover SUV 2012',\n",
       "       'Land Rover LR2 SUV 2012', 'Lincoln Town Car Sedan 2011',\n",
       "       'MINI Cooper Roadster Convertible 2012',\n",
       "       'Maybach Landaulet Convertible 2012', 'Mazda Tribute SUV 2011',\n",
       "       'McLaren MP4-12C Coupe 2012',\n",
       "       'Mercedes-Benz 300-Class Convertible 1993',\n",
       "       'Mercedes-Benz C-Class Sedan 2012',\n",
       "       'Mercedes-Benz SL-Class Coupe 2009',\n",
       "       'Mercedes-Benz E-Class Sedan 2012',\n",
       "       'Mercedes-Benz S-Class Sedan 2012',\n",
       "       'Mercedes-Benz Sprinter Van 2012', 'Mitsubishi Lancer Sedan 2012',\n",
       "       'Nissan Leaf Hatchback 2012', 'Nissan NV Passenger Van 2012',\n",
       "       'Nissan Juke Hatchback 2012', 'Nissan 240SX Coupe 1998',\n",
       "       'Plymouth Neon Coupe 1999', 'Porsche Panamera Sedan 2012',\n",
       "       'Ram C/V Cargo Van Minivan 2012',\n",
       "       'Rolls-Royce Phantom Drophead Coupe Convertible 2012',\n",
       "       'Rolls-Royce Ghost Sedan 2012', 'Rolls-Royce Phantom Sedan 2012',\n",
       "       'Scion xD Hatchback 2012', 'Spyker C8 Convertible 2009',\n",
       "       'Spyker C8 Coupe 2009', 'Suzuki Aerio Sedan 2007',\n",
       "       'Suzuki Kizashi Sedan 2012', 'Suzuki SX4 Hatchback 2012',\n",
       "       'Suzuki SX4 Sedan 2012', 'Tesla Model S Sedan 2012',\n",
       "       'Toyota Sequoia SUV 2012', 'Toyota Camry Sedan 2012',\n",
       "       'Toyota Corolla Sedan 2012', 'Toyota 4Runner SUV 2012',\n",
       "       'Volkswagen Golf Hatchback 2012', 'Volkswagen Golf Hatchback 1991',\n",
       "       'Volkswagen Beetle Hatchback 2012', 'Volvo C30 Hatchback 2012',\n",
       "       'Volvo 240 Sedan 1993', 'Volvo XC90 SUV 2007',\n",
       "       'smart fortwo Convertible 2012'], dtype=object)"
      ]
     },
     "execution_count": 47,
     "metadata": {},
     "output_type": "execute_result"
    }
   ],
   "source": [
    "mat['class_names']"
   ]
  },
  {
   "cell_type": "code",
   "execution_count": 45,
   "id": "protecting-organizer",
   "metadata": {
    "ExecuteTime": {
     "end_time": "2021-11-07T16:22:28.138700Z",
     "start_time": "2021-11-07T16:22:28.118536Z"
    }
   },
   "outputs": [
    {
     "data": {
      "text/plain": [
       "'relative_im_path'"
      ]
     },
     "execution_count": 45,
     "metadata": {},
     "output_type": "execute_result"
    }
   ],
   "source": [
    "# This is how to extract the datatypes to use as dataframes header\n",
    "mat['annotations'].dtype.descr[0][0]"
   ]
  },
  {
   "cell_type": "code",
   "execution_count": 126,
   "id": "desirable-creature",
   "metadata": {
    "ExecuteTime": {
     "end_time": "2021-11-07T17:03:13.787676Z",
     "start_time": "2021-11-07T17:03:13.558871Z"
    }
   },
   "outputs": [],
   "source": [
    "# extract the data from the .mat file and store it in a two (2) separate datframes\n",
    "\n",
    "df_1_header = list()\n",
    "\n",
    "# loop through 2 levels of the dictionary, each level will go in a different dataframe\n",
    "for level in mat:\n",
    "    if level == 'annotations':\n",
    "    \n",
    "        # on the first level we need to extract the dscription ('relative_im_path', 'O') and store that in a list as header\n",
    "        df_1_header = [x[0] for x in mat['annotations'].dtype.descr]\n",
    "\n",
    "        # and extract the values ('car_ims/000001.jpg', 112, 7, 853, 717, 1, 0) and store that in lists representing the columns\n",
    "        df_1_values_0 = [x[0] for x in mat['annotations']]\n",
    "        df_1_values_1 = [x[1] for x in mat['annotations']]\n",
    "        df_1_values_2 = [x[2] for x in mat['annotations']]\n",
    "        df_1_values_3 = [x[3] for x in mat['annotations']]\n",
    "        df_1_values_4 = [x[4] for x in mat['annotations']]\n",
    "        df_1_values_5 = [x[5] for x in mat['annotations']]\n",
    "        df_1_values_6 = [x[6] for x in mat['annotations']]\n",
    "        \n",
    "        # create a dataframe\n",
    "        df_bounding_box = pd.DataFrame(list(zip(df_1_values_0, df_1_values_1,\n",
    "                                               df_1_values_2,df_1_values_3,\n",
    "                                               df_1_values_4,df_1_values_5,\n",
    "                                               df_1_values_6)), columns = df_1_header)\n",
    "\n",
    "\n",
    "    # on the second level, we will store the class (196 classes) on separate dataframe\n",
    "    if level == 'class_names':\n",
    "        classes = np.arange(1,len(mat['class_names'])+1)\n",
    "        df_classes = pd.DataFrame(list(zip(classes, mat['class_names'])), columns = ['class', 'name'])"
   ]
  },
  {
   "cell_type": "code",
   "execution_count": 154,
   "id": "another-accessory",
   "metadata": {
    "ExecuteTime": {
     "end_time": "2021-11-07T20:03:24.443402Z",
     "start_time": "2021-11-07T20:03:24.291616Z"
    }
   },
   "outputs": [
    {
     "data": {
      "text/html": [
       "<div>\n",
       "<style scoped>\n",
       "    .dataframe tbody tr th:only-of-type {\n",
       "        vertical-align: middle;\n",
       "    }\n",
       "\n",
       "    .dataframe tbody tr th {\n",
       "        vertical-align: top;\n",
       "    }\n",
       "\n",
       "    .dataframe thead th {\n",
       "        text-align: right;\n",
       "    }\n",
       "</style>\n",
       "<table border=\"1\" class=\"dataframe\">\n",
       "  <thead>\n",
       "    <tr style=\"text-align: right;\">\n",
       "      <th></th>\n",
       "      <th>relative_im_path</th>\n",
       "      <th>bbox_x1</th>\n",
       "      <th>bbox_y1</th>\n",
       "      <th>bbox_x2</th>\n",
       "      <th>bbox_y2</th>\n",
       "      <th>class</th>\n",
       "      <th>test</th>\n",
       "    </tr>\n",
       "  </thead>\n",
       "  <tbody>\n",
       "    <tr>\n",
       "      <th>0</th>\n",
       "      <td>car_ims/000001.jpg</td>\n",
       "      <td>112</td>\n",
       "      <td>7</td>\n",
       "      <td>853</td>\n",
       "      <td>717</td>\n",
       "      <td>1</td>\n",
       "      <td>0</td>\n",
       "    </tr>\n",
       "    <tr>\n",
       "      <th>1</th>\n",
       "      <td>car_ims/000002.jpg</td>\n",
       "      <td>48</td>\n",
       "      <td>24</td>\n",
       "      <td>441</td>\n",
       "      <td>202</td>\n",
       "      <td>1</td>\n",
       "      <td>0</td>\n",
       "    </tr>\n",
       "    <tr>\n",
       "      <th>2</th>\n",
       "      <td>car_ims/000003.jpg</td>\n",
       "      <td>7</td>\n",
       "      <td>4</td>\n",
       "      <td>277</td>\n",
       "      <td>180</td>\n",
       "      <td>1</td>\n",
       "      <td>0</td>\n",
       "    </tr>\n",
       "    <tr>\n",
       "      <th>3</th>\n",
       "      <td>car_ims/000004.jpg</td>\n",
       "      <td>33</td>\n",
       "      <td>50</td>\n",
       "      <td>197</td>\n",
       "      <td>150</td>\n",
       "      <td>1</td>\n",
       "      <td>0</td>\n",
       "    </tr>\n",
       "    <tr>\n",
       "      <th>4</th>\n",
       "      <td>car_ims/000005.jpg</td>\n",
       "      <td>5</td>\n",
       "      <td>8</td>\n",
       "      <td>83</td>\n",
       "      <td>58</td>\n",
       "      <td>1</td>\n",
       "      <td>0</td>\n",
       "    </tr>\n",
       "    <tr>\n",
       "      <th>...</th>\n",
       "      <td>...</td>\n",
       "      <td>...</td>\n",
       "      <td>...</td>\n",
       "      <td>...</td>\n",
       "      <td>...</td>\n",
       "      <td>...</td>\n",
       "      <td>...</td>\n",
       "    </tr>\n",
       "    <tr>\n",
       "      <th>16180</th>\n",
       "      <td>car_ims/016181.jpg</td>\n",
       "      <td>38</td>\n",
       "      <td>36</td>\n",
       "      <td>375</td>\n",
       "      <td>234</td>\n",
       "      <td>196</td>\n",
       "      <td>1</td>\n",
       "    </tr>\n",
       "    <tr>\n",
       "      <th>16181</th>\n",
       "      <td>car_ims/016182.jpg</td>\n",
       "      <td>29</td>\n",
       "      <td>34</td>\n",
       "      <td>235</td>\n",
       "      <td>164</td>\n",
       "      <td>196</td>\n",
       "      <td>1</td>\n",
       "    </tr>\n",
       "    <tr>\n",
       "      <th>16182</th>\n",
       "      <td>car_ims/016183.jpg</td>\n",
       "      <td>25</td>\n",
       "      <td>32</td>\n",
       "      <td>587</td>\n",
       "      <td>359</td>\n",
       "      <td>196</td>\n",
       "      <td>1</td>\n",
       "    </tr>\n",
       "    <tr>\n",
       "      <th>16183</th>\n",
       "      <td>car_ims/016184.jpg</td>\n",
       "      <td>56</td>\n",
       "      <td>60</td>\n",
       "      <td>208</td>\n",
       "      <td>186</td>\n",
       "      <td>196</td>\n",
       "      <td>1</td>\n",
       "    </tr>\n",
       "    <tr>\n",
       "      <th>16184</th>\n",
       "      <td>car_ims/016185.jpg</td>\n",
       "      <td>1</td>\n",
       "      <td>1</td>\n",
       "      <td>200</td>\n",
       "      <td>131</td>\n",
       "      <td>196</td>\n",
       "      <td>1</td>\n",
       "    </tr>\n",
       "  </tbody>\n",
       "</table>\n",
       "<p>16185 rows × 7 columns</p>\n",
       "</div>"
      ],
      "text/plain": [
       "         relative_im_path  bbox_x1  bbox_y1  bbox_x2  bbox_y2  class  test\n",
       "0      car_ims/000001.jpg      112        7      853      717      1     0\n",
       "1      car_ims/000002.jpg       48       24      441      202      1     0\n",
       "2      car_ims/000003.jpg        7        4      277      180      1     0\n",
       "3      car_ims/000004.jpg       33       50      197      150      1     0\n",
       "4      car_ims/000005.jpg        5        8       83       58      1     0\n",
       "...                   ...      ...      ...      ...      ...    ...   ...\n",
       "16180  car_ims/016181.jpg       38       36      375      234    196     1\n",
       "16181  car_ims/016182.jpg       29       34      235      164    196     1\n",
       "16182  car_ims/016183.jpg       25       32      587      359    196     1\n",
       "16183  car_ims/016184.jpg       56       60      208      186    196     1\n",
       "16184  car_ims/016185.jpg        1        1      200      131    196     1\n",
       "\n",
       "[16185 rows x 7 columns]"
      ]
     },
     "execution_count": 154,
     "metadata": {},
     "output_type": "execute_result"
    }
   ],
   "source": [
    "df_bounding_box"
   ]
  },
  {
   "cell_type": "code",
   "execution_count": 150,
   "id": "differential-february",
   "metadata": {
    "ExecuteTime": {
     "end_time": "2021-11-07T17:05:47.284553Z",
     "start_time": "2021-11-07T17:05:47.243384Z"
    }
   },
   "outputs": [
    {
     "data": {
      "text/html": [
       "<div>\n",
       "<style scoped>\n",
       "    .dataframe tbody tr th:only-of-type {\n",
       "        vertical-align: middle;\n",
       "    }\n",
       "\n",
       "    .dataframe tbody tr th {\n",
       "        vertical-align: top;\n",
       "    }\n",
       "\n",
       "    .dataframe thead th {\n",
       "        text-align: right;\n",
       "    }\n",
       "</style>\n",
       "<table border=\"1\" class=\"dataframe\">\n",
       "  <thead>\n",
       "    <tr style=\"text-align: right;\">\n",
       "      <th></th>\n",
       "      <th>class</th>\n",
       "      <th>name</th>\n",
       "    </tr>\n",
       "  </thead>\n",
       "  <tbody>\n",
       "    <tr>\n",
       "      <th>0</th>\n",
       "      <td>1</td>\n",
       "      <td>AM General Hummer SUV 2000</td>\n",
       "    </tr>\n",
       "    <tr>\n",
       "      <th>1</th>\n",
       "      <td>2</td>\n",
       "      <td>Acura RL Sedan 2012</td>\n",
       "    </tr>\n",
       "    <tr>\n",
       "      <th>2</th>\n",
       "      <td>3</td>\n",
       "      <td>Acura TL Sedan 2012</td>\n",
       "    </tr>\n",
       "    <tr>\n",
       "      <th>3</th>\n",
       "      <td>4</td>\n",
       "      <td>Acura TL Type-S 2008</td>\n",
       "    </tr>\n",
       "    <tr>\n",
       "      <th>4</th>\n",
       "      <td>5</td>\n",
       "      <td>Acura TSX Sedan 2012</td>\n",
       "    </tr>\n",
       "    <tr>\n",
       "      <th>...</th>\n",
       "      <td>...</td>\n",
       "      <td>...</td>\n",
       "    </tr>\n",
       "    <tr>\n",
       "      <th>191</th>\n",
       "      <td>192</td>\n",
       "      <td>Volkswagen Beetle Hatchback 2012</td>\n",
       "    </tr>\n",
       "    <tr>\n",
       "      <th>192</th>\n",
       "      <td>193</td>\n",
       "      <td>Volvo C30 Hatchback 2012</td>\n",
       "    </tr>\n",
       "    <tr>\n",
       "      <th>193</th>\n",
       "      <td>194</td>\n",
       "      <td>Volvo 240 Sedan 1993</td>\n",
       "    </tr>\n",
       "    <tr>\n",
       "      <th>194</th>\n",
       "      <td>195</td>\n",
       "      <td>Volvo XC90 SUV 2007</td>\n",
       "    </tr>\n",
       "    <tr>\n",
       "      <th>195</th>\n",
       "      <td>196</td>\n",
       "      <td>smart fortwo Convertible 2012</td>\n",
       "    </tr>\n",
       "  </tbody>\n",
       "</table>\n",
       "<p>196 rows × 2 columns</p>\n",
       "</div>"
      ],
      "text/plain": [
       "     class                              name\n",
       "0        1        AM General Hummer SUV 2000\n",
       "1        2               Acura RL Sedan 2012\n",
       "2        3               Acura TL Sedan 2012\n",
       "3        4              Acura TL Type-S 2008\n",
       "4        5              Acura TSX Sedan 2012\n",
       "..     ...                               ...\n",
       "191    192  Volkswagen Beetle Hatchback 2012\n",
       "192    193          Volvo C30 Hatchback 2012\n",
       "193    194              Volvo 240 Sedan 1993\n",
       "194    195               Volvo XC90 SUV 2007\n",
       "195    196     smart fortwo Convertible 2012\n",
       "\n",
       "[196 rows x 2 columns]"
      ]
     },
     "execution_count": 150,
     "metadata": {},
     "output_type": "execute_result"
    }
   ],
   "source": [
    "df_classes"
   ]
  },
  {
   "cell_type": "code",
   "execution_count": null,
   "id": "joint-motivation",
   "metadata": {},
   "outputs": [],
   "source": []
  },
  {
   "cell_type": "markdown",
   "id": "altered-cardiff",
   "metadata": {},
   "source": [
    "### Modelling and Evaluation"
   ]
  },
  {
   "cell_type": "code",
   "execution_count": null,
   "id": "annual-missouri",
   "metadata": {},
   "outputs": [],
   "source": []
  },
  {
   "cell_type": "code",
   "execution_count": null,
   "id": "certain-administration",
   "metadata": {},
   "outputs": [],
   "source": []
  }
 ],
 "metadata": {
  "hide_input": false,
  "kernelspec": {
   "display_name": "deeplearning",
   "language": "python",
   "name": "deeplearning"
  },
  "language_info": {
   "codemirror_mode": {
    "name": "ipython",
    "version": 3
   },
   "file_extension": ".py",
   "mimetype": "text/x-python",
   "name": "python",
   "nbconvert_exporter": "python",
   "pygments_lexer": "ipython3",
   "version": "3.8.8"
  },
  "toc": {
   "base_numbering": 1,
   "nav_menu": {},
   "number_sections": true,
   "sideBar": true,
   "skip_h1_title": false,
   "title_cell": "Table of Contents",
   "title_sidebar": "Contents",
   "toc_cell": false,
   "toc_position": {},
   "toc_section_display": true,
   "toc_window_display": false
  }
 },
 "nbformat": 4,
 "nbformat_minor": 5
}
